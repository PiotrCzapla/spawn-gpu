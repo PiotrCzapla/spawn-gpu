{
 "cells": [
  {
   "cell_type": "code",
   "execution_count": 2,
   "metadata": {},
   "outputs": [],
   "source": []
  },
  {
   "cell_type": "markdown",
   "metadata": {},
   "source": [
    "# spawn-gpu\n",
    "\n",
    "> Helps starting & stopping gpu machines and manage entries in .ssh/config"
   ]
  },
  {
   "cell_type": "markdown",
   "metadata": {},
   "source": [
    "This file will become your README and also the index of your documentation."
   ]
  },
  {
   "cell_type": "markdown",
   "metadata": {},
   "source": [
    "## Install"
   ]
  },
  {
   "cell_type": "markdown",
   "metadata": {},
   "source": [
    "```sh\n",
    "pip install spawn_gpu\n",
    "```\n",
    "\n",
    "Then add the environment variables and an alias to your zsh\n",
    "\n",
    "```\n",
    "    export JARVIS_TOKEN=$(gopass path/to/your/token)\n",
    "    export JARVIS_USER_ID=your_user_id\n",
    "```\n",
    "\n",
    "For conda users:\n",
    "```\n",
    "    alias spawn-gpu=\"conda run -n spawn-gpu python -m spawn_gpu\"\n",
    "```\n",
    "\n"
   ]
  }
 ],
 "metadata": {
  "kernelspec": {
   "display_name": "Python 3.10.6 ('gpuvm')",
   "language": "python",
   "name": "python3"
  },
  "language_info": {
   "codemirror_mode": {
    "name": "ipython",
    "version": 3
   },
   "file_extension": ".py",
   "mimetype": "text/x-python",
   "name": "python",
   "nbconvert_exporter": "python",
   "pygments_lexer": "ipython3",
   "version": "3.10.6"
  },
  "vscode": {
   "interpreter": {
    "hash": "c7d6b7d58df07cb44a8dfc77d7e2830677d9e6acfe1990275dcc594fd616cab9"
   }
  }
 },
 "nbformat": 4,
 "nbformat_minor": 4
}
