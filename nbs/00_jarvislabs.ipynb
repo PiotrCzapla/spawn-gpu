{
 "cells": [
  {
   "cell_type": "markdown",
   "metadata": {},
   "source": [
    "# Jarvislabs\n",
    "\n",
    "> support for Jarvislabs"
   ]
  },
  {
   "cell_type": "code",
   "execution_count": null,
   "metadata": {},
   "outputs": [],
   "source": [
    "#| default_exp jarvislabs"
   ]
  },
  {
   "cell_type": "code",
   "execution_count": null,
   "metadata": {},
   "outputs": [],
   "source": [
    "#| hide\n",
    "from nbdev.showdoc import *"
   ]
  },
  {
   "cell_type": "code",
   "execution_count": null,
   "metadata": {},
   "outputs": [
    {
     "name": "stdout",
     "output_type": "stream",
     "text": [
      "0, sd:  A5000 (1) - Paused\n",
      "\t# https://notebooksg.jarvislabs.ai/...\n",
      "\t# ('sshg.jarvislabs.ai', 8962\n"
     ]
    }
   ],
   "source": [
    "#| hide\n",
    "import re\n",
    "def print_safe(s, _pat=re.compile('jarvislabs.ai/[-_/a-zA-Z0-9?.=]+')):\n",
    "    print(_pat.sub('jarvislabs.ai/...', str(s)))\n",
    "    \n",
    "print_safe('''0, sd:  A5000 (1) - Paused\n",
    "\t# https://notebooksg.jarvislabs.ai/062/lab?token=super-secret-token_123/\n",
    "\t# ('sshg.jarvislabs.ai', 8962''')"
   ]
  },
  {
   "cell_type": "code",
   "execution_count": null,
   "metadata": {},
   "outputs": [],
   "source": [
    "#| export\n",
    "import re\n",
    "import os\n",
    "from pathlib import Path\n",
    "\n",
    "from fastcore.script import *\n",
    "from fastcore.basics import *\n",
    "from fastcore.imports import *"
   ]
  },
  {
   "cell_type": "code",
   "execution_count": null,
   "metadata": {},
   "outputs": [],
   "source": [
    "#| export\n",
    "def _jl_parse_ssh_str(ssh_str, pat=re.compile(r\"ssh -p *(\\d+) root@(.*)\")):\n",
    "    m = pat.search(ssh_str)\n",
    "    if not m:\n",
    "        raise ValueError(f\"Unrecognised jarvis ssh string: {ssh_str}\")\n",
    "    return m.group(2), int(m.group(1))"
   ]
  },
  {
   "cell_type": "code",
   "execution_count": null,
   "metadata": {},
   "outputs": [
    {
     "data": {
      "text/plain": [
       "('test.jarvislabs.com', 3323)"
      ]
     },
     "execution_count": null,
     "metadata": {},
     "output_type": "execute_result"
    }
   ],
   "source": [
    "_jl_parse_ssh_str('ssh -p 3323 root@test.jarvislabs.com')"
   ]
  },
  {
   "cell_type": "code",
   "execution_count": null,
   "metadata": {},
   "outputs": [],
   "source": [
    "#| export\n",
    "def _jl_print_inst(inst, idx=\"\", show_conn_info=True):\n",
    "    addr = ', '.join(filter(lambda x: x, [f'{idx}', inst.name]))\n",
    "    print(f\"{addr}:  {inst.gpu_type} ({inst.num_gpus}) - {inst.status}\")\n",
    "    if show_conn_info:\n",
    "        print(f\"\\t# {inst.url}\")\n",
    "        print(f\"\\t# {_jl_parse_ssh_str(inst.ssh_str) if inst.ssh_str else 'No SSH info, did you provide ssh key?'}\")"
   ]
  },
  {
   "cell_type": "code",
   "execution_count": null,
   "metadata": {},
   "outputs": [
    {
     "name": "stdout",
     "output_type": "stream",
     "text": [
      "my-test:  v100 (1) - paused\n",
      "\t# https://.../?token=...\n",
      "\t# ('test.jarvislabs.com', 1234)\n"
     ]
    }
   ],
   "source": [
    "from jlclient.jarvisclient import Instance\n",
    "\n",
    "inst = Instance(gpu_type='v100', name=\"my-test\", num_gpus=1, status='paused', url='https://.../?token=...', ssh_str='ssh -p 1234 root@test.jarvislabs.com', hdd=0, framework_id='fastai', machine_id=1, tboard_url='https://...')\n",
    "_jl_print_inst(inst)"
   ]
  },
  {
   "cell_type": "code",
   "execution_count": null,
   "metadata": {},
   "outputs": [],
   "source": [
    "#| export\n",
    "\n",
    "def _jl_make_ssh_config(inst, idx):\n",
    "    name = inst.name or f'jl-{idx}'\n",
    "    if not inst.ssh_str:\n",
    "        return \"\"\"# no ssh info available\"\"\"\n",
    "    host, port = _jl_parse_ssh_str(inst.ssh_str)\n",
    "    return f\"\"\"\n",
    "    Host {name}\n",
    "        Port {port}\n",
    "        HostKeyAlias {name}\n",
    "        ForwardAgent yes\n",
    "        Hostname {host}\n",
    "        User root\n",
    "    \"\"\""
   ]
  },
  {
   "cell_type": "code",
   "execution_count": null,
   "metadata": {},
   "outputs": [
    {
     "name": "stdout",
     "output_type": "stream",
     "text": [
      "\n",
      "    Host my-test\n",
      "        Port 1234\n",
      "        HostKeyAlias my-test\n",
      "        ForwardAgent yes\n",
      "        Hostname test.jarvislabs.com\n",
      "        User root\n",
      "    \n"
     ]
    }
   ],
   "source": [
    "print(_jl_make_ssh_config(inst, 0))"
   ]
  },
  {
   "cell_type": "code",
   "execution_count": null,
   "metadata": {},
   "outputs": [],
   "source": [
    "#| export\n",
    "class JarvisClient():\n",
    "    def __init__(self, ssh_d=None):\n",
    "        self.ssh_d = ssh_d or Path.home()/'.ssh'\n",
    "        self.ssh_config = self.ssh_d/'config'\n",
    "\n",
    "    def _instances(self):\n",
    "        from jlclient import jarvisclient as api\n",
    "        api.token = os.environ['JARVIS_TOKEN']\n",
    "        api.user_id = os.environ['JARVIS_USER_ID']\n",
    "        try:\n",
    "            ids = {str(idx): i for idx, i in enumerate(api.User.get_instances())}\n",
    "        except AttributeError as e:\n",
    "            if \"'str' object has no attribute 'items'\" in str(e):\n",
    "                print('Api is not listing your instances correctly, check your token or contact jarvislabs support')\n",
    "                return {},{}\n",
    "        names = {inst.name: inst for inst in ids.values()}\n",
    "        return ids, names\n"
   ]
  },
  {
   "cell_type": "code",
   "execution_count": null,
   "metadata": {},
   "outputs": [],
   "source": [
    "os.environ['JARVIS_TOKEN'] = os.environ.get('JARVIS_TOKEN_TEST', os.environ.get('JARVIS_TOKEN')) \n",
    "os.environ['JARVIS_USER_ID'] = os.environ.get('JARVIS_USER_ID_TEST', os.environ.get('JARVIS_USER_ID'))\n",
    "\n",
    "def tst_client(): return JarvisClient(ssh_d=Path('/tmp/tst.ssh/'))"
   ]
  },
  {
   "cell_type": "code",
   "execution_count": null,
   "metadata": {},
   "outputs": [
    {
     "data": {
      "text/plain": [
       "{'0': 'test'}"
      ]
     },
     "execution_count": null,
     "metadata": {},
     "output_type": "execute_result"
    }
   ],
   "source": [
    "{k:inst.name for k, inst in tst_client()._instances()[0].items()}"
   ]
  },
  {
   "cell_type": "code",
   "execution_count": null,
   "metadata": {},
   "outputs": [
    {
     "data": {
      "text/plain": [
       "{'test': 'test'}"
      ]
     },
     "execution_count": null,
     "metadata": {},
     "output_type": "execute_result"
    }
   ],
   "source": [
    "{k:inst.name for k, inst in tst_client()._instances()[1].items()}"
   ]
  },
  {
   "cell_type": "code",
   "execution_count": null,
   "metadata": {},
   "outputs": [
    {
     "name": "stdout",
     "output_type": "stream",
     "text": [
      "({'0': {'gpu_type': 'CPU', 'num_gpus': 1, 'hdd': '20', 'framework_id': '0', 'url': 'https://notebooksa.jarvislabs.ai/...', 'machine_id': 62290, 'tboard_url': ['https://notebooksa.jarvislabs.ai/...'], 'ssh_str': '', 'status': 'Paused', 'name': 'test', 'arguments': '', 'is_reserved': 1, 'duration': 'hour'}}, {'test': {'gpu_type': 'CPU', 'num_gpus': 1, 'hdd': '20', 'framework_id': '0', 'url': 'https://notebooksa.jarvislabs.ai/...', 'machine_id': 62290, 'tboard_url': ['https://notebooksa.jarvislabs.ai/...'], 'ssh_str': '', 'status': 'Paused', 'name': 'test', 'arguments': '', 'is_reserved': 1, 'duration': 'hour'}})\n"
     ]
    }
   ],
   "source": [
    "print_safe(tst_client()._instances())"
   ]
  },
  {
   "cell_type": "code",
   "execution_count": null,
   "metadata": {},
   "outputs": [],
   "source": [
    "#| export\n",
    "@patch\n",
    "def list(self:JarvisClient):\n",
    "    ids, _ = self._instances()       \n",
    "    for key, inst in ids.items():\n",
    "        _jl_print_inst(inst, key)\n"
   ]
  },
  {
   "cell_type": "code",
   "execution_count": null,
   "metadata": {},
   "outputs": [
    {
     "name": "stdout",
     "output_type": "stream",
     "text": [
      "0, test:  CPU (1) - Paused\n",
      "\t# https://notebooksa.jarvislabs.ai/0961/lab?token=Oq4r9J2lU_-I6RUgXj7h38hh7OJcS5tNT-kHUbwpzqcdKCkk5nBILg-C2MzacXnK\n",
      "\t# No SSH info, did you provide ssh key?\n"
     ]
    }
   ],
   "source": [
    "tst_client().list()"
   ]
  },
  {
   "cell_type": "code",
   "execution_count": null,
   "metadata": {},
   "outputs": [],
   "source": [
    "#| export\n",
    "@patch\n",
    "def _add_config_d(self: JarvisClient):\n",
    "    line = 'Include ~/.ssh/config.d/*'\n",
    "    if not self.ssh_config.exists():\n",
    "        print(f'Creating {self.ssh_config} for you')\n",
    "        self.ssh_d.mkdir(exist_ok=True)\n",
    "        lines = []\n",
    "    else:\n",
    "        with self.ssh_config.open('rt') as f:\n",
    "            lines = f.readlines()\n",
    "    for l in lines:\n",
    "        if '~/.ssh/config.d/' in l.strip():\n",
    "            break\n",
    "    else:\n",
    "        if lines:\n",
    "            print(\"Adding the following required include to your ~/.ssh/config:\")\n",
    "            print(line)\n",
    "        with self.ssh_config.open('wt') as f:\n",
    "            f.writelines([line, '\\n', *lines])\n"
   ]
  },
  {
   "cell_type": "code",
   "execution_count": null,
   "metadata": {},
   "outputs": [
    {
     "name": "stdout",
     "output_type": "stream",
     "text": [
      "Creating /tmp/tst.ssh/config for you\n",
      "Content of the .ssh/config\n",
      "Include ~/.ssh/config.d/*\n"
     ]
    }
   ],
   "source": [
    "jl = tst_client()\n",
    "! rm -rf /tmp/tst.ssh\n",
    "jl._add_config_d()\n",
    "jl._add_config_d()\n",
    "! echo Content of the .ssh/config\n",
    "! cat {jl.ssh_config}"
   ]
  },
  {
   "cell_type": "code",
   "execution_count": null,
   "metadata": {},
   "outputs": [
    {
     "name": "stdout",
     "output_type": "stream",
     "text": [
      "Creating /tmp/tst.ssh/config for you\n",
      "Content of the .ssh/config\n",
      "Include ~/.ssh/config.d/*\n"
     ]
    }
   ],
   "source": [
    "jl = tst_client()\n",
    "! mkdir -p /tmp/tst.ssh\n",
    "! rm /tmp/tst.ssh/config\n",
    "jl._add_config_d()\n",
    "jl._add_config_d()\n",
    "! echo Content of the .ssh/config\n",
    "! cat {jl.ssh_config}"
   ]
  },
  {
   "cell_type": "code",
   "execution_count": null,
   "metadata": {},
   "outputs": [
    {
     "name": "stdout",
     "output_type": "stream",
     "text": [
      "Adding the following required include to your ~/.ssh/config:\n",
      "Include ~/.ssh/config.d/*\n",
      "Content of the .ssh/config\n",
      "Include ~/.ssh/config.d/*\n",
      "# some lines\n",
      "# some more lines\n"
     ]
    }
   ],
   "source": [
    "jl = tst_client()\n",
    "! mkdir -p /tmp/tst.ssh\n",
    "! echo '# some lines\\n# some more lines' > /tmp/tst.ssh/config\n",
    "jl._add_config_d()\n",
    "! echo Content of the .ssh/config\n",
    "! cat {jl.ssh_config}"
   ]
  },
  {
   "cell_type": "code",
   "execution_count": null,
   "metadata": {},
   "outputs": [],
   "source": [
    "#| export\n",
    "@patch\n",
    "def setup(self: JarvisClient, instances = None):\n",
    "    p = self.ssh_d / \"config.d\" \n",
    "    p.mkdir(parents=True, exist_ok=True)\n",
    "    with (p/'jarvis.config').open('w') as f:\n",
    "        for key, inst in (instances or self._instances()[0]).items():\n",
    "            f.write(_jl_make_ssh_config(inst, key))\n"
   ]
  },
  {
   "cell_type": "code",
   "execution_count": null,
   "metadata": {},
   "outputs": [
    {
     "name": "stdout",
     "output_type": "stream",
     "text": [
      "jarvis.config\n",
      "# no ssh info available"
     ]
    }
   ],
   "source": [
    "!rm -rf /tmp/tst.ssh/\n",
    "tst_client().setup()\n",
    "!ls /tmp/tst.ssh/config.d\n",
    "!cat /tmp/tst.ssh/config.d/jarvis.config"
   ]
  },
  {
   "cell_type": "code",
   "execution_count": null,
   "metadata": {},
   "outputs": [],
   "source": [
    "#| export\n",
    "@patch\n",
    "def resume(self: JarvisClient, idx=0):\n",
    "    ids, names = self._instances()       \n",
    "    instance = {**ids, **names}[str(idx)]\n",
    "    instance.resume()\n",
    "    _jl_print_inst(instance)\n",
    "    self.setup(ids)\n"
   ]
  },
  {
   "cell_type": "code",
   "execution_count": null,
   "metadata": {},
   "outputs": [
    {
     "name": "stdout",
     "output_type": "stream",
     "text": [
      "test:  CPU (1) - Running\n",
      "\t# https://notebooksa.jarvislabs.ai/0961/lab?token=Oq4r9J2lU_-I6RUgXj7h38hh7OJcS5tNT-kHUbwpzqcdKCkk5nBILg-C2MzacXnK\n",
      "\t# No SSH info, did you provide ssh key?\n",
      "None\n"
     ]
    }
   ],
   "source": [
    "print_safe(tst_client().resume(0))"
   ]
  },
  {
   "cell_type": "code",
   "execution_count": null,
   "metadata": {},
   "outputs": [],
   "source": [
    "#| export\n",
    "@patch\n",
    "def pause(self: JarvisClient, idx=0):\n",
    "    ids, names = self._instances()       \n",
    "    instance = {**ids, **names}[str(idx)]\n",
    "    instance.pause()\n",
    "    _jl_print_inst(instance)\n",
    "    self.setup(ids)\n"
   ]
  },
  {
   "cell_type": "code",
   "execution_count": null,
   "metadata": {},
   "outputs": [
    {
     "name": "stdout",
     "output_type": "stream",
     "text": [
      "test:  CPU (1) - Paused\n",
      "\t# https://notebooksa.jarvislabs.ai/0961/lab?token=Oq4r9J2lU_-I6RUgXj7h38hh7OJcS5tNT-kHUbwpzqcdKCkk5nBILg-C2MzacXnK\n",
      "\t# No SSH info, did you provide ssh key?\n"
     ]
    }
   ],
   "source": [
    "tst_client().pause()"
   ]
  },
  {
   "cell_type": "code",
   "execution_count": null,
   "metadata": {},
   "outputs": [],
   "source": [
    "#| hide\n",
    "\n",
    "import nbdev; nbdev.nbdev_export()"
   ]
  }
 ],
 "metadata": {
  "kernelspec": {
   "display_name": "Python 3.10.6 ('gpuvm')",
   "language": "python",
   "name": "python3"
  }
 },
 "nbformat": 4,
 "nbformat_minor": 4
}
